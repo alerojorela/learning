{
 "cells": [
  {
   "cell_type": "markdown",
   "id": "86601a4a",
   "metadata": {},
   "source": [
    "by *Alejandro Rojo* -- **linguistics - NLP - AI**"
   ]
  },
  {
   "cell_type": "markdown",
   "id": "401309ec",
   "metadata": {},
   "source": [
    "# Sintaxis de Python"
   ]
  },
  {
   "cell_type": "markdown",
   "id": "ea7e9a76",
   "metadata": {},
   "source": [
    "Aquí se mencionarán cuestiones elementales de la sintaxis de Python."
   ]
  },
  {
   "cell_type": "markdown",
   "id": "6bbbbafd",
   "metadata": {},
   "source": [
    "# Caracteres que definen tipos de datos"
   ]
  },
  {
   "cell_type": "markdown",
   "id": "cbe74886",
   "metadata": {},
   "source": [
    "Los corchetes `[]`, las llaves `{}` y los paréntesis `()` (estos últimos también establecen la preferencia de las operaciones) sirven para especificar diferentes tipos de datos, que aparecerán entre ellos y separados por comas:\n",
    "+ `[a, ...]` lista\n",
    "+ `(a, ...)` tupla\n",
    "+ `{a, ...}` conjunto y `{a: a', ...}` diccionario"
   ]
  },
  {
   "cell_type": "code",
   "execution_count": 160,
   "id": "20bab0ba",
   "metadata": {},
   "outputs": [],
   "source": [
    "lista = [0, 1, None, 1, 0]\n",
    "tupla = (0, 1, None, 1, 0)\n",
    "conjunto =  {0, 1, None, 1, 0}\n",
    "diccionario_indizado = {0: 0, 1: 1, 2: None, 3: 1, 4: 0}\n",
    "diccionario_claves = {'es': 'casa', 'en': 'house', 'he': 'bayt'}"
   ]
  },
  {
   "cell_type": "code",
   "execution_count": 161,
   "id": "88654979",
   "metadata": {},
   "outputs": [
    {
     "data": {
      "text/plain": [
       "[0, 1, None, 1, 0]"
      ]
     },
     "execution_count": 161,
     "metadata": {},
     "output_type": "execute_result"
    }
   ],
   "source": [
    "lista"
   ]
  },
  {
   "cell_type": "code",
   "execution_count": 162,
   "id": "fb1d52e4",
   "metadata": {},
   "outputs": [
    {
     "data": {
      "text/plain": [
       "(0, 1, None, 1, 0)"
      ]
     },
     "execution_count": 162,
     "metadata": {},
     "output_type": "execute_result"
    }
   ],
   "source": [
    "tupla"
   ]
  },
  {
   "cell_type": "code",
   "execution_count": 163,
   "id": "455f555c",
   "metadata": {},
   "outputs": [
    {
     "data": {
      "text/plain": [
       "{0, 1, None}"
      ]
     },
     "execution_count": 163,
     "metadata": {},
     "output_type": "execute_result"
    }
   ],
   "source": [
    "conjunto"
   ]
  },
  {
   "cell_type": "code",
   "execution_count": 164,
   "id": "bf644004",
   "metadata": {},
   "outputs": [
    {
     "data": {
      "text/plain": [
       "{0: 0, 1: 1, 2: None, 3: 1, 4: 0}"
      ]
     },
     "execution_count": 164,
     "metadata": {},
     "output_type": "execute_result"
    }
   ],
   "source": [
    "diccionario_indizado"
   ]
  },
  {
   "cell_type": "code",
   "execution_count": 165,
   "id": "8028dc6e",
   "metadata": {},
   "outputs": [
    {
     "data": {
      "text/plain": [
       "{'es': 'casa', 'en': 'house', 'he': 'bayt'}"
      ]
     },
     "execution_count": 165,
     "metadata": {},
     "output_type": "execute_result"
    }
   ],
   "source": [
    "diccionario_claves"
   ]
  },
  {
   "cell_type": "markdown",
   "id": "0dee8198",
   "metadata": {},
   "source": [
    "## () Tuplas\n",
    "Las tuplas son listas inmutables, que no admiten extensión, compárese el comportamiento de:"
   ]
  },
  {
   "cell_type": "code",
   "execution_count": 166,
   "id": "ff54386a",
   "metadata": {},
   "outputs": [
    {
     "data": {
      "text/plain": [
       "[0, 1, None, 1, 0, 'nuevo']"
      ]
     },
     "execution_count": 166,
     "metadata": {},
     "output_type": "execute_result"
    }
   ],
   "source": [
    "lista.append('nuevo')\n",
    "lista"
   ]
  },
  {
   "cell_type": "markdown",
   "id": "775b0079",
   "metadata": {},
   "source": [
    "con el error en las tuplas:"
   ]
  },
  {
   "cell_type": "code",
   "execution_count": 167,
   "id": "9bc64e9f",
   "metadata": {},
   "outputs": [
    {
     "ename": "AttributeError",
     "evalue": "'tuple' object has no attribute 'append'",
     "output_type": "error",
     "traceback": [
      "\u001b[0;31m---------------------------------------------------------------------------\u001b[0m",
      "\u001b[0;31mAttributeError\u001b[0m                            Traceback (most recent call last)",
      "\u001b[0;32m<ipython-input-167-ecd70ae7813b>\u001b[0m in \u001b[0;36m<module>\u001b[0;34m\u001b[0m\n\u001b[0;32m----> 1\u001b[0;31m \u001b[0mtupla\u001b[0m\u001b[0;34m.\u001b[0m\u001b[0mappend\u001b[0m\u001b[0;34m(\u001b[0m\u001b[0;36m2\u001b[0m\u001b[0;34m)\u001b[0m\u001b[0;34m\u001b[0m\u001b[0;34m\u001b[0m\u001b[0m\n\u001b[0m\u001b[1;32m      2\u001b[0m \u001b[0mtupla\u001b[0m\u001b[0;34m\u001b[0m\u001b[0;34m\u001b[0m\u001b[0m\n",
      "\u001b[0;31mAttributeError\u001b[0m: 'tuple' object has no attribute 'append'"
     ]
    }
   ],
   "source": [
    "tupla.append(2)\n",
    "tupla"
   ]
  },
  {
   "cell_type": "markdown",
   "id": "1d4a90fd",
   "metadata": {},
   "source": [
    "## {:} Diccionario\n",
    "La metáfora *diccionario* es clara: en un diccionario real encontramos pares {definido: definición}. Como puede observarse un diccionario es un conjunto de claves (por tanto son todas únicas) asociadas a un valor (estos no necesitan ser únicos ya)."
   ]
  },
  {
   "cell_type": "markdown",
   "id": "59f1852d",
   "metadata": {},
   "source": [
    "Si queremos listar cada una de estas partes por separado hemos de usar los métodos `keys` y `values`:"
   ]
  },
  {
   "cell_type": "code",
   "execution_count": 168,
   "id": "8a96bcfc",
   "metadata": {},
   "outputs": [
    {
     "data": {
      "text/plain": [
       "[0, 1, 2, 3, 4]"
      ]
     },
     "execution_count": 168,
     "metadata": {},
     "output_type": "execute_result"
    }
   ],
   "source": [
    "list(diccionario_indizado.keys())"
   ]
  },
  {
   "cell_type": "code",
   "execution_count": 169,
   "id": "b2e4042a",
   "metadata": {},
   "outputs": [
    {
     "data": {
      "text/plain": [
       "[0, 1, None, 1, 0]"
      ]
     },
     "execution_count": 169,
     "metadata": {},
     "output_type": "execute_result"
    }
   ],
   "source": [
    "list(diccionario_indizado.values())"
   ]
  },
  {
   "cell_type": "code",
   "execution_count": 170,
   "id": "4260e3aa",
   "metadata": {},
   "outputs": [
    {
     "data": {
      "text/plain": [
       "['es', 'en', 'he']"
      ]
     },
     "execution_count": 170,
     "metadata": {},
     "output_type": "execute_result"
    }
   ],
   "source": [
    "list(diccionario_claves.keys())"
   ]
  },
  {
   "cell_type": "code",
   "execution_count": 171,
   "id": "fcc55e58",
   "metadata": {},
   "outputs": [
    {
     "data": {
      "text/plain": [
       "['casa', 'house', 'bayt']"
      ]
     },
     "execution_count": 171,
     "metadata": {},
     "output_type": "execute_result"
    }
   ],
   "source": [
    "list(diccionario_claves.values())"
   ]
  },
  {
   "cell_type": "markdown",
   "id": "9a690cb5",
   "metadata": {},
   "source": [
    "Los diccionarios se utilizan para acceder a datos mediante un identificador `key` y para corresponder/mapear datos"
   ]
  },
  {
   "cell_type": "markdown",
   "id": "d76e0632",
   "metadata": {},
   "source": [
    "# Sufijación"
   ]
  },
  {
   "cell_type": "markdown",
   "id": "85a8bdc6",
   "metadata": {},
   "source": [
    "Las tuplas sufijadas a un identificador llaman a la función con sus elementos como argumentos:\n",
    "`digits(...)`"
   ]
  },
  {
   "cell_type": "code",
   "execution_count": 172,
   "id": "ed3bb361",
   "metadata": {},
   "outputs": [
    {
     "data": {
      "text/plain": [
       "[1, 2, 3, 0, 4, 0, 0, 5]"
      ]
     },
     "execution_count": 172,
     "metadata": {},
     "output_type": "execute_result"
    }
   ],
   "source": [
    "def digits(number):\n",
    "    return [int(cifra) for cifra in str(number)]\n",
    "\n",
    "cifras = digits(12304005)\n",
    "cifras"
   ]
  },
  {
   "cell_type": "markdown",
   "id": "bdb8ac3b",
   "metadata": {},
   "source": [
    "Los corchetes sufijados a un identificador toman elementos de la lista, tupla, conjunto o diccionario (en este caso mediante sus claves)\n",
    "`identificador[...]`"
   ]
  },
  {
   "cell_type": "code",
   "execution_count": 173,
   "id": "d58e4986",
   "metadata": {},
   "outputs": [
    {
     "data": {
      "text/plain": [
       "0"
      ]
     },
     "execution_count": 173,
     "metadata": {},
     "output_type": "execute_result"
    }
   ],
   "source": [
    "lista[0]"
   ]
  },
  {
   "cell_type": "code",
   "execution_count": 174,
   "id": "515b4af6",
   "metadata": {},
   "outputs": [
    {
     "data": {
      "text/plain": [
       "1"
      ]
     },
     "execution_count": 174,
     "metadata": {},
     "output_type": "execute_result"
    }
   ],
   "source": [
    "tupla[1]"
   ]
  },
  {
   "cell_type": "markdown",
   "id": "1e0d6a88",
   "metadata": {},
   "source": [
    "Los conjuntos, sin embargo, no están ordenados, de aquí el siguiente error:"
   ]
  },
  {
   "cell_type": "code",
   "execution_count": 175,
   "id": "4e44afa3",
   "metadata": {},
   "outputs": [
    {
     "ename": "TypeError",
     "evalue": "'set' object is not subscriptable",
     "output_type": "error",
     "traceback": [
      "\u001b[0;31m---------------------------------------------------------------------------\u001b[0m",
      "\u001b[0;31mTypeError\u001b[0m                                 Traceback (most recent call last)",
      "\u001b[0;32m<ipython-input-175-702f91cb967e>\u001b[0m in \u001b[0;36m<module>\u001b[0;34m\u001b[0m\n\u001b[0;32m----> 1\u001b[0;31m \u001b[0mconjunto\u001b[0m\u001b[0;34m[\u001b[0m\u001b[0;36m2\u001b[0m\u001b[0;34m]\u001b[0m\u001b[0;34m\u001b[0m\u001b[0;34m\u001b[0m\u001b[0m\n\u001b[0m",
      "\u001b[0;31mTypeError\u001b[0m: 'set' object is not subscriptable"
     ]
    }
   ],
   "source": [
    "conjunto[2]"
   ]
  },
  {
   "cell_type": "code",
   "execution_count": 176,
   "id": "588fa366",
   "metadata": {},
   "outputs": [
    {
     "data": {
      "text/plain": [
       "0"
      ]
     },
     "execution_count": 176,
     "metadata": {},
     "output_type": "execute_result"
    }
   ],
   "source": [
    "diccionario_indizado[0]"
   ]
  },
  {
   "cell_type": "code",
   "execution_count": 177,
   "id": "d7b463bb",
   "metadata": {},
   "outputs": [
    {
     "data": {
      "text/plain": [
       "'casa'"
      ]
     },
     "execution_count": 177,
     "metadata": {},
     "output_type": "execute_result"
    }
   ],
   "source": [
    "diccionario_claves['es']"
   ]
  },
  {
   "cell_type": "markdown",
   "id": "fd92c681",
   "metadata": {},
   "source": [
    "## ¿Cómo obtener varios elementos a la vez"
   ]
  },
  {
   "cell_type": "markdown",
   "id": "55e4d5b3",
   "metadata": {},
   "source": [
    "Para ejemplificar algunos casos inicialicemos numpy y convirtamos la lista en un array"
   ]
  },
  {
   "cell_type": "code",
   "execution_count": 178,
   "id": "20d33e67",
   "metadata": {},
   "outputs": [
    {
     "data": {
      "text/plain": [
       "array([1, 2, 3, 0, 4, 0, 0, 5])"
      ]
     },
     "execution_count": 178,
     "metadata": {},
     "output_type": "execute_result"
    }
   ],
   "source": [
    "import numpy as np\n",
    "lista_array = np.array(cifras)\n",
    "lista_array"
   ]
  },
  {
   "cell_type": "markdown",
   "id": "27b75437",
   "metadata": {},
   "source": [
    "### Filtro"
   ]
  },
  {
   "cell_type": "markdown",
   "id": "d7127069",
   "metadata": {},
   "source": [
    "Si queremos aplicar una máscara, un filtro de valores de verdad, donde True indica que seleccionamos el elemento y False que lo descartamos, primero definimos el filtro como una lista de la misma longitud."
   ]
  },
  {
   "cell_type": "code",
   "execution_count": 179,
   "id": "7f593c7b",
   "metadata": {},
   "outputs": [],
   "source": [
    "filtro = [True, True, False, False, False, False, False, True]"
   ]
  },
  {
   "cell_type": "markdown",
   "id": "47b948da",
   "metadata": {},
   "source": [
    "Una opción que usa una lista de comprensión es la siguiente:"
   ]
  },
  {
   "cell_type": "code",
   "execution_count": 180,
   "id": "9f6613f4",
   "metadata": {},
   "outputs": [
    {
     "data": {
      "text/plain": [
       "[1, 2, 5]"
      ]
     },
     "execution_count": 180,
     "metadata": {},
     "output_type": "execute_result"
    }
   ],
   "source": [
    "[miembro for miembro, escogible in zip(cifras, filtro) if escogible]"
   ]
  },
  {
   "cell_type": "markdown",
   "id": "ecdf6c63",
   "metadata": {},
   "source": [
    "pero con numpy es más sencillo:"
   ]
  },
  {
   "cell_type": "code",
   "execution_count": 181,
   "id": "e7d201df",
   "metadata": {},
   "outputs": [
    {
     "data": {
      "text/plain": [
       "array([1, 2, 5])"
      ]
     },
     "execution_count": 181,
     "metadata": {},
     "output_type": "execute_result"
    }
   ],
   "source": [
    "lista_array[filtro]"
   ]
  },
  {
   "cell_type": "markdown",
   "id": "c1628096",
   "metadata": {},
   "source": [
    "### Selección parcial"
   ]
  },
  {
   "cell_type": "markdown",
   "id": "ccd817a0",
   "metadata": {},
   "source": [
    "Podemos usar una lista de comprensión de tal manera que `map` sea implícito y la condición explícita:"
   ]
  },
  {
   "cell_type": "code",
   "execution_count": 201,
   "id": "16c35fda",
   "metadata": {
    "scrolled": true
   },
   "outputs": [
    {
     "data": {
      "text/plain": [
       "['casa', 'house']"
      ]
     },
     "execution_count": 201,
     "metadata": {},
     "output_type": "execute_result"
    }
   ],
   "source": [
    "[value for key, value in diccionario_claves.items() if key in ['es', 'en']]"
   ]
  },
  {
   "cell_type": "markdown",
   "id": "42b4efcf",
   "metadata": {},
   "source": [
    "Podemos usar map y pasar como argumento el método `__getitem__()` que se aplicará a cada uno de los miembros"
   ]
  },
  {
   "cell_type": "code",
   "execution_count": 202,
   "id": "2181d54e",
   "metadata": {
    "scrolled": true
   },
   "outputs": [
    {
     "data": {
      "text/plain": [
       "[1, 4, 3]"
      ]
     },
     "execution_count": 202,
     "metadata": {},
     "output_type": "execute_result"
    }
   ],
   "source": [
    "list(map(cifras.__getitem__, [0, 4, 2]))"
   ]
  },
  {
   "cell_type": "code",
   "execution_count": 203,
   "id": "f796f568",
   "metadata": {},
   "outputs": [
    {
     "data": {
      "text/plain": [
       "['casa', 'house']"
      ]
     },
     "execution_count": 203,
     "metadata": {},
     "output_type": "execute_result"
    }
   ],
   "source": [
    "list(map(diccionario_claves.__getitem__, ['es', 'en']))"
   ]
  },
  {
   "cell_type": "markdown",
   "id": "3f5c51b4",
   "metadata": {},
   "source": [
    "pero con numpy es más sencillo:"
   ]
  },
  {
   "cell_type": "code",
   "execution_count": 205,
   "id": "89735e38",
   "metadata": {},
   "outputs": [
    {
     "data": {
      "text/plain": [
       "array([1, 4, 3])"
      ]
     },
     "execution_count": 205,
     "metadata": {},
     "output_type": "execute_result"
    }
   ],
   "source": [
    "lista_array[[0, 4, 2]]"
   ]
  },
  {
   "cell_type": "markdown",
   "id": "2e12033e",
   "metadata": {},
   "source": [
    "### Selección continua"
   ]
  },
  {
   "cell_type": "markdown",
   "id": "3eb08fb9",
   "metadata": {},
   "source": [
    "Si la selección es continua basta con definir el intervalo (el extremo superior es abierto y por ello el último índice no se incluye):"
   ]
  },
  {
   "cell_type": "code",
   "execution_count": 206,
   "id": "7f438185",
   "metadata": {},
   "outputs": [
    {
     "data": {
      "text/plain": [
       "[2, 3, 0]"
      ]
     },
     "execution_count": 206,
     "metadata": {},
     "output_type": "execute_result"
    }
   ],
   "source": [
    "cifras[1:4]"
   ]
  },
  {
   "cell_type": "markdown",
   "id": "15de0987",
   "metadata": {},
   "source": [
    "o sin este atajo sintáctico:"
   ]
  },
  {
   "cell_type": "code",
   "execution_count": 207,
   "id": "50b7b26b",
   "metadata": {},
   "outputs": [
    {
     "data": {
      "text/plain": [
       "[2, 3, 0]"
      ]
     },
     "execution_count": 207,
     "metadata": {},
     "output_type": "execute_result"
    }
   ],
   "source": [
    "cifras[slice(1, 4)]"
   ]
  },
  {
   "cell_type": "markdown",
   "id": "9e6df287",
   "metadata": {},
   "source": [
    "# El punto, el directorio"
   ]
  },
  {
   "cell_type": "markdown",
   "id": "0f4d20c0",
   "metadata": {},
   "source": [
    "> https://realpython.com/python-modules-packages/"
   ]
  },
  {
   "cell_type": "markdown",
   "id": "c297c8df",
   "metadata": {},
   "source": [
    "Como quiera que los programas pueden hacerse muy complejos, se hace necesario [estructurarlos](https://en.wikipedia.org/wiki/Modular_programming): las funciones se definen en clases, estas son contenidas en módulos (archivos .py) y estas en paquetes (carpetas):\n",
    "\n",
    "`función (< clase) < módulo < paquete`\n",
    "\n",
    "Y así como una clase puede implementar el método de inicialización `__init__()`, en una carpeta puede haber un archivo `__init__.py` para inicializar el paquete."
   ]
  },
  {
   "cell_type": "markdown",
   "id": "12f5a962",
   "metadata": {},
   "source": [
    "En el ejemplo siguiente se busca obtener una representación textual de la fecha y tiempo actuales en UTC:"
   ]
  },
  {
   "cell_type": "code",
   "execution_count": 208,
   "id": "c491f2d3",
   "metadata": {},
   "outputs": [
    {
     "data": {
      "text/plain": [
       "'2022-09-30T14:04:08.396564'"
      ]
     },
     "execution_count": 208,
     "metadata": {},
     "output_type": "execute_result"
    }
   ],
   "source": [
    "import datetime\n",
    "datetime.datetime.utcnow().isoformat()"
   ]
  },
  {
   "cell_type": "markdown",
   "id": "b74d28c8",
   "metadata": {},
   "source": [
    "1. datetime es un módulo `datetime.py`\n",
    "2. este contiene una clase homónima `datetime`\n",
    "3. esta contiene un método `utcnow` que devuelve un objeto `time`\n",
    "4. `isoformat`es otro método de `datetime` que devuelve una string del objeto anterior"
   ]
  },
  {
   "cell_type": "markdown",
   "id": "96958312",
   "metadata": {},
   "source": [
    "# Indentación y estructura"
   ]
  },
  {
   "cell_type": "markdown",
   "id": "36d364cc",
   "metadata": {},
   "source": [
    "¿por qué resulta tan cómodo y rápido prototipar con Python?\n",
    "porque es bastante sucinto y minimalista"
   ]
  },
  {
   "cell_type": "markdown",
   "id": "4d4bc4ba",
   "metadata": {},
   "source": [
    "Este es un ejemplo de código en JavaScript:\n"
   ]
  },
  {
   "cell_type": "markdown",
   "id": "b9e3aec8",
   "metadata": {},
   "source": [
    "```\n",
    "var a = 10;\n",
    "if (a > 20) {\n",
    "    // bloque True\n",
    "    haz_tal();\n",
    "} else {\n",
    "    // bloque False\n",
    "    haz_cual();\n",
    "}\n",
    "```"
   ]
  },
  {
   "cell_type": "markdown",
   "id": "c02543f3",
   "metadata": {},
   "source": [
    "Y este es el equivalente en Python:"
   ]
  },
  {
   "cell_type": "markdown",
   "id": "63be6ecf",
   "metadata": {},
   "source": [
    "```\n",
    "a = 10\n",
    "if a > 20:\n",
    "    # bloque True\n",
    "    haz_tal()\n",
    "else:\n",
    "    # bloque False\n",
    "    haz_cual()\n",
    "```"
   ]
  },
  {
   "cell_type": "markdown",
   "id": "ab33a2a1",
   "metadata": {},
   "source": [
    "Como puede observarse, Python prescinde de diversos caracteres como `;`, `{}` y `()`.\n",
    "1. En vez de usar `{}` para definir un bloque, agrupa las sentencias mediante su indentación común,\n",
    "2. en vez de usar `()` para separar el valor boleano (resultado aquí de una comparación) de la siguiente sentencia o \n",
    "bloque utiliza : y retorno de línea."
   ]
  },
  {
   "cell_type": "markdown",
   "id": "720ae3b3",
   "metadata": {},
   "source": [
    "En muchos lenguajes de programación diferentes de Python la **indentación** (la sangría, generada por el tabulador generalmente) es innecesaria pues ya existen otro elementos que determinan la estructura como `{}`. No obstante, se sigue usando pues conviene a la legibilidad del código.\n",
    "La propuesta acertada de Python es hacer que deje de ser redundante y que determine directamente la estructura, reduciendo el número de elementos sintácticos."
   ]
  },
  {
   "cell_type": "markdown",
   "id": "4bd482bd",
   "metadata": {},
   "source": [
    "El caracter `:` especifica un bloque (grupo de sentencias) a continuación que será identificado por incrementar su indentación. Dentro de cada bloque puede haber recursión con instrucciones que definan a su vez otros bloques.\n",
    "Definen bloques `if, while, for, try, with` y las definiciones `def` y `class`. Véase https://docs.python.org/2/reference/compound_stmts.html"
   ]
  },
  {
   "cell_type": "markdown",
   "id": "9ec40f32",
   "metadata": {},
   "source": [
    "`if` puede considerarse una función de 3 argumentos if(booleano, bloque_true, bloque_false).\n",
    "`elif` es azúcar sintáctico, siendo realmente una condición anidada dentro del bloque False pero que se utiliza para simplificar y hacer más legible la anidación de condiciones."
   ]
  },
  {
   "cell_type": "markdown",
   "id": "6f07c6e2",
   "metadata": {},
   "source": [
    "# Listas de comprensión"
   ]
  },
  {
   "cell_type": "markdown",
   "id": "09fad6a8",
   "metadata": {},
   "source": [
    "Obtengamos los números entre el 0 y el 19 (el extremo superior no se incluye, de aquí que usemos su incremento, el 20)"
   ]
  },
  {
   "cell_type": "code",
   "execution_count": 211,
   "id": "89997bfe",
   "metadata": {},
   "outputs": [
    {
     "data": {
      "text/plain": [
       "[0, 1, 2, 3, 4, 5, 6, 7, 8, 9, 10, 11, 12, 13, 14, 15, 16, 17, 18, 19]"
      ]
     },
     "execution_count": 211,
     "metadata": {},
     "output_type": "execute_result"
    }
   ],
   "source": [
    "lista = range(0,20)\n",
    "list(lista)"
   ]
  },
  {
   "cell_type": "markdown",
   "id": "3c13b394",
   "metadata": {},
   "source": [
    "Si deseamos calcular los números pares (resto 0 de la división con 2) podemos realizarlo de la siguiente manera:"
   ]
  },
  {
   "cell_type": "code",
   "execution_count": 212,
   "id": "13d37964",
   "metadata": {},
   "outputs": [
    {
     "data": {
      "text/plain": [
       "[0, 2, 4, 6, 8, 10, 12, 14, 16, 18]"
      ]
     },
     "execution_count": 212,
     "metadata": {},
     "output_type": "execute_result"
    }
   ],
   "source": [
    "filter = [miembro for miembro in lista if miembro % 2 == 0]\n",
    "filter"
   ]
  },
  {
   "cell_type": "markdown",
   "id": "e5778d69",
   "metadata": {},
   "source": [
    "Las listas de comprensión `[<MAPEO> for _ in lista <FILTRO>]`, aunque se consideren más avanzadas, son alternativas compactas que facilitan la lectura de la intención del programador. Se usan como alternativa a bucles sencillos que realizan funciones filter y/o map.\n",
    "\n",
    "En Javascript estos métodos han de explicitarse:"
   ]
  },
  {
   "cell_type": "markdown",
   "id": "e5ae04b6",
   "metadata": {},
   "source": [
    "```\n",
    "var lista = Array.from(Array(20).keys());\n",
    "console.log(lista);\n",
    "\n",
    "var mapeo = lista.map((x) => x % 2);\n",
    "// 0,1,0,1,0,1,0,1,0,1,0,1,0,1,0,1,0,1,0,1\n",
    "\n",
    "var filtro = lista.filter((x) => x % 2 == 0);\n",
    "// 0,2,4,6,8,10,12,14,16,18\n",
    "```"
   ]
  },
  {
   "cell_type": "markdown",
   "id": "f7ace33a",
   "metadata": {},
   "source": [
    "# Palabras reservadas\n",
    "Son palabras que tienen una función asignada por python y son necesarias para su funcionamiento y por tanto no deben usarse"
   ]
  },
  {
   "cell_type": "code",
   "execution_count": 213,
   "id": "de519114",
   "metadata": {},
   "outputs": [
    {
     "data": {
      "text/plain": [
       "['False',\n",
       " 'None',\n",
       " 'True',\n",
       " '__peg_parser__',\n",
       " 'and',\n",
       " 'as',\n",
       " 'assert',\n",
       " 'async',\n",
       " 'await',\n",
       " 'break',\n",
       " 'class',\n",
       " 'continue',\n",
       " 'def',\n",
       " 'del',\n",
       " 'elif',\n",
       " 'else',\n",
       " 'except',\n",
       " 'finally',\n",
       " 'for',\n",
       " 'from',\n",
       " 'global',\n",
       " 'if',\n",
       " 'import',\n",
       " 'in',\n",
       " 'is',\n",
       " 'lambda',\n",
       " 'nonlocal',\n",
       " 'not',\n",
       " 'or',\n",
       " 'pass',\n",
       " 'raise',\n",
       " 'return',\n",
       " 'try',\n",
       " 'while',\n",
       " 'with',\n",
       " 'yield']"
      ]
     },
     "execution_count": 213,
     "metadata": {},
     "output_type": "execute_result"
    }
   ],
   "source": [
    "import keyword\n",
    "keyword.kwlist"
   ]
  }
 ],
 "metadata": {
  "kernelspec": {
   "display_name": "Python 3",
   "language": "python",
   "name": "python3"
  },
  "language_info": {
   "codemirror_mode": {
    "name": "ipython",
    "version": 3
   },
   "file_extension": ".py",
   "mimetype": "text/x-python",
   "name": "python",
   "nbconvert_exporter": "python",
   "pygments_lexer": "ipython3",
   "version": "3.9.5"
  }
 },
 "nbformat": 4,
 "nbformat_minor": 5
}
